{
 "cells": [
  {
   "cell_type": "markdown",
   "metadata": {},
   "source": [
    "# Classification with the Iris dataset"
   ]
  },
  {
   "cell_type": "code",
   "execution_count": 102,
   "metadata": {
    "collapsed": true
   },
   "outputs": [],
   "source": [
    "from sklearn.datasets import load_iris\n",
    "from sklearn.neighbors import KNeighborsClassifier\n",
    "from sklearn.linear_model import LogisticRegression\n",
    "from sklearn import metrics\n",
    "from sklearn.model_selection import train_test_split, cross_val_score, GridSearchCV, RandomizedSearchCV\n",
    "import numpy as np\n",
    "import pandas as pd\n",
    "import matplotlib.pyplot as plt\n",
    "#allow plots to appear within the notebook\n",
    "%matplotlib inline"
   ]
  },
  {
   "cell_type": "code",
   "execution_count": null,
   "metadata": {
    "collapsed": true
   },
   "outputs": [],
   "source": [
    "iris = load_iris()\n",
    "type(iris)"
   ]
  },
  {
   "cell_type": "code",
   "execution_count": 4,
   "metadata": {},
   "outputs": [
    {
     "data": {
      "text/plain": [
       "array([[5.1, 3.5, 1.4, 0.2],\n",
       "       [4.9, 3. , 1.4, 0.2],\n",
       "       [4.7, 3.2, 1.3, 0.2],\n",
       "       [4.6, 3.1, 1.5, 0.2],\n",
       "       [5. , 3.6, 1.4, 0.2],\n",
       "       [5.4, 3.9, 1.7, 0.4],\n",
       "       [4.6, 3.4, 1.4, 0.3],\n",
       "       [5. , 3.4, 1.5, 0.2],\n",
       "       [4.4, 2.9, 1.4, 0.2],\n",
       "       [4.9, 3.1, 1.5, 0.1],\n",
       "       [5.4, 3.7, 1.5, 0.2],\n",
       "       [4.8, 3.4, 1.6, 0.2],\n",
       "       [4.8, 3. , 1.4, 0.1],\n",
       "       [4.3, 3. , 1.1, 0.1],\n",
       "       [5.8, 4. , 1.2, 0.2],\n",
       "       [5.7, 4.4, 1.5, 0.4],\n",
       "       [5.4, 3.9, 1.3, 0.4],\n",
       "       [5.1, 3.5, 1.4, 0.3],\n",
       "       [5.7, 3.8, 1.7, 0.3],\n",
       "       [5.1, 3.8, 1.5, 0.3],\n",
       "       [5.4, 3.4, 1.7, 0.2],\n",
       "       [5.1, 3.7, 1.5, 0.4],\n",
       "       [4.6, 3.6, 1. , 0.2],\n",
       "       [5.1, 3.3, 1.7, 0.5],\n",
       "       [4.8, 3.4, 1.9, 0.2],\n",
       "       [5. , 3. , 1.6, 0.2],\n",
       "       [5. , 3.4, 1.6, 0.4],\n",
       "       [5.2, 3.5, 1.5, 0.2],\n",
       "       [5.2, 3.4, 1.4, 0.2],\n",
       "       [4.7, 3.2, 1.6, 0.2],\n",
       "       [4.8, 3.1, 1.6, 0.2],\n",
       "       [5.4, 3.4, 1.5, 0.4],\n",
       "       [5.2, 4.1, 1.5, 0.1],\n",
       "       [5.5, 4.2, 1.4, 0.2],\n",
       "       [4.9, 3.1, 1.5, 0.2],\n",
       "       [5. , 3.2, 1.2, 0.2],\n",
       "       [5.5, 3.5, 1.3, 0.2],\n",
       "       [4.9, 3.6, 1.4, 0.1],\n",
       "       [4.4, 3. , 1.3, 0.2],\n",
       "       [5.1, 3.4, 1.5, 0.2],\n",
       "       [5. , 3.5, 1.3, 0.3],\n",
       "       [4.5, 2.3, 1.3, 0.3],\n",
       "       [4.4, 3.2, 1.3, 0.2],\n",
       "       [5. , 3.5, 1.6, 0.6],\n",
       "       [5.1, 3.8, 1.9, 0.4],\n",
       "       [4.8, 3. , 1.4, 0.3],\n",
       "       [5.1, 3.8, 1.6, 0.2],\n",
       "       [4.6, 3.2, 1.4, 0.2],\n",
       "       [5.3, 3.7, 1.5, 0.2],\n",
       "       [5. , 3.3, 1.4, 0.2],\n",
       "       [7. , 3.2, 4.7, 1.4],\n",
       "       [6.4, 3.2, 4.5, 1.5],\n",
       "       [6.9, 3.1, 4.9, 1.5],\n",
       "       [5.5, 2.3, 4. , 1.3],\n",
       "       [6.5, 2.8, 4.6, 1.5],\n",
       "       [5.7, 2.8, 4.5, 1.3],\n",
       "       [6.3, 3.3, 4.7, 1.6],\n",
       "       [4.9, 2.4, 3.3, 1. ],\n",
       "       [6.6, 2.9, 4.6, 1.3],\n",
       "       [5.2, 2.7, 3.9, 1.4],\n",
       "       [5. , 2. , 3.5, 1. ],\n",
       "       [5.9, 3. , 4.2, 1.5],\n",
       "       [6. , 2.2, 4. , 1. ],\n",
       "       [6.1, 2.9, 4.7, 1.4],\n",
       "       [5.6, 2.9, 3.6, 1.3],\n",
       "       [6.7, 3.1, 4.4, 1.4],\n",
       "       [5.6, 3. , 4.5, 1.5],\n",
       "       [5.8, 2.7, 4.1, 1. ],\n",
       "       [6.2, 2.2, 4.5, 1.5],\n",
       "       [5.6, 2.5, 3.9, 1.1],\n",
       "       [5.9, 3.2, 4.8, 1.8],\n",
       "       [6.1, 2.8, 4. , 1.3],\n",
       "       [6.3, 2.5, 4.9, 1.5],\n",
       "       [6.1, 2.8, 4.7, 1.2],\n",
       "       [6.4, 2.9, 4.3, 1.3],\n",
       "       [6.6, 3. , 4.4, 1.4],\n",
       "       [6.8, 2.8, 4.8, 1.4],\n",
       "       [6.7, 3. , 5. , 1.7],\n",
       "       [6. , 2.9, 4.5, 1.5],\n",
       "       [5.7, 2.6, 3.5, 1. ],\n",
       "       [5.5, 2.4, 3.8, 1.1],\n",
       "       [5.5, 2.4, 3.7, 1. ],\n",
       "       [5.8, 2.7, 3.9, 1.2],\n",
       "       [6. , 2.7, 5.1, 1.6],\n",
       "       [5.4, 3. , 4.5, 1.5],\n",
       "       [6. , 3.4, 4.5, 1.6],\n",
       "       [6.7, 3.1, 4.7, 1.5],\n",
       "       [6.3, 2.3, 4.4, 1.3],\n",
       "       [5.6, 3. , 4.1, 1.3],\n",
       "       [5.5, 2.5, 4. , 1.3],\n",
       "       [5.5, 2.6, 4.4, 1.2],\n",
       "       [6.1, 3. , 4.6, 1.4],\n",
       "       [5.8, 2.6, 4. , 1.2],\n",
       "       [5. , 2.3, 3.3, 1. ],\n",
       "       [5.6, 2.7, 4.2, 1.3],\n",
       "       [5.7, 3. , 4.2, 1.2],\n",
       "       [5.7, 2.9, 4.2, 1.3],\n",
       "       [6.2, 2.9, 4.3, 1.3],\n",
       "       [5.1, 2.5, 3. , 1.1],\n",
       "       [5.7, 2.8, 4.1, 1.3],\n",
       "       [6.3, 3.3, 6. , 2.5],\n",
       "       [5.8, 2.7, 5.1, 1.9],\n",
       "       [7.1, 3. , 5.9, 2.1],\n",
       "       [6.3, 2.9, 5.6, 1.8],\n",
       "       [6.5, 3. , 5.8, 2.2],\n",
       "       [7.6, 3. , 6.6, 2.1],\n",
       "       [4.9, 2.5, 4.5, 1.7],\n",
       "       [7.3, 2.9, 6.3, 1.8],\n",
       "       [6.7, 2.5, 5.8, 1.8],\n",
       "       [7.2, 3.6, 6.1, 2.5],\n",
       "       [6.5, 3.2, 5.1, 2. ],\n",
       "       [6.4, 2.7, 5.3, 1.9],\n",
       "       [6.8, 3. , 5.5, 2.1],\n",
       "       [5.7, 2.5, 5. , 2. ],\n",
       "       [5.8, 2.8, 5.1, 2.4],\n",
       "       [6.4, 3.2, 5.3, 2.3],\n",
       "       [6.5, 3. , 5.5, 1.8],\n",
       "       [7.7, 3.8, 6.7, 2.2],\n",
       "       [7.7, 2.6, 6.9, 2.3],\n",
       "       [6. , 2.2, 5. , 1.5],\n",
       "       [6.9, 3.2, 5.7, 2.3],\n",
       "       [5.6, 2.8, 4.9, 2. ],\n",
       "       [7.7, 2.8, 6.7, 2. ],\n",
       "       [6.3, 2.7, 4.9, 1.8],\n",
       "       [6.7, 3.3, 5.7, 2.1],\n",
       "       [7.2, 3.2, 6. , 1.8],\n",
       "       [6.2, 2.8, 4.8, 1.8],\n",
       "       [6.1, 3. , 4.9, 1.8],\n",
       "       [6.4, 2.8, 5.6, 2.1],\n",
       "       [7.2, 3. , 5.8, 1.6],\n",
       "       [7.4, 2.8, 6.1, 1.9],\n",
       "       [7.9, 3.8, 6.4, 2. ],\n",
       "       [6.4, 2.8, 5.6, 2.2],\n",
       "       [6.3, 2.8, 5.1, 1.5],\n",
       "       [6.1, 2.6, 5.6, 1.4],\n",
       "       [7.7, 3. , 6.1, 2.3],\n",
       "       [6.3, 3.4, 5.6, 2.4],\n",
       "       [6.4, 3.1, 5.5, 1.8],\n",
       "       [6. , 3. , 4.8, 1.8],\n",
       "       [6.9, 3.1, 5.4, 2.1],\n",
       "       [6.7, 3.1, 5.6, 2.4],\n",
       "       [6.9, 3.1, 5.1, 2.3],\n",
       "       [5.8, 2.7, 5.1, 1.9],\n",
       "       [6.8, 3.2, 5.9, 2.3],\n",
       "       [6.7, 3.3, 5.7, 2.5],\n",
       "       [6.7, 3. , 5.2, 2.3],\n",
       "       [6.3, 2.5, 5. , 1.9],\n",
       "       [6.5, 3. , 5.2, 2. ],\n",
       "       [6.2, 3.4, 5.4, 2.3],\n",
       "       [5.9, 3. , 5.1, 1.8]])"
      ]
     },
     "execution_count": 4,
     "metadata": {},
     "output_type": "execute_result"
    }
   ],
   "source": [
    "iris.data"
   ]
  },
  {
   "cell_type": "code",
   "execution_count": 5,
   "metadata": {
    "collapsed": true
   },
   "outputs": [
    {
     "data": {
      "text/plain": [
       "['sepal length (cm)',\n",
       " 'sepal width (cm)',\n",
       " 'petal length (cm)',\n",
       " 'petal width (cm)']"
      ]
     },
     "execution_count": 5,
     "metadata": {},
     "output_type": "execute_result"
    }
   ],
   "source": [
    "iris.feature_names"
   ]
  },
  {
   "cell_type": "code",
   "execution_count": 6,
   "metadata": {
    "collapsed": true
   },
   "outputs": [
    {
     "data": {
      "text/plain": [
       "array([0, 0, 0, 0, 0, 0, 0, 0, 0, 0, 0, 0, 0, 0, 0, 0, 0, 0, 0, 0, 0, 0,\n",
       "       0, 0, 0, 0, 0, 0, 0, 0, 0, 0, 0, 0, 0, 0, 0, 0, 0, 0, 0, 0, 0, 0,\n",
       "       0, 0, 0, 0, 0, 0, 1, 1, 1, 1, 1, 1, 1, 1, 1, 1, 1, 1, 1, 1, 1, 1,\n",
       "       1, 1, 1, 1, 1, 1, 1, 1, 1, 1, 1, 1, 1, 1, 1, 1, 1, 1, 1, 1, 1, 1,\n",
       "       1, 1, 1, 1, 1, 1, 1, 1, 1, 1, 1, 1, 2, 2, 2, 2, 2, 2, 2, 2, 2, 2,\n",
       "       2, 2, 2, 2, 2, 2, 2, 2, 2, 2, 2, 2, 2, 2, 2, 2, 2, 2, 2, 2, 2, 2,\n",
       "       2, 2, 2, 2, 2, 2, 2, 2, 2, 2, 2, 2, 2, 2, 2, 2, 2, 2])"
      ]
     },
     "execution_count": 6,
     "metadata": {},
     "output_type": "execute_result"
    }
   ],
   "source": [
    "#show integers representing the species of each observation (aka response)\n",
    "iris.target"
   ]
  },
  {
   "cell_type": "code",
   "execution_count": 7,
   "metadata": {
    "collapsed": true
   },
   "outputs": [
    {
     "data": {
      "text/plain": [
       "array(['setosa', 'versicolor', 'virginica'], dtype='<U10')"
      ]
     },
     "execution_count": 7,
     "metadata": {},
     "output_type": "execute_result"
    }
   ],
   "source": [
    "iris.target_names"
   ]
  },
  {
   "cell_type": "code",
   "execution_count": 8,
   "metadata": {
    "collapsed": true
   },
   "outputs": [
    {
     "name": "stdout",
     "output_type": "stream",
     "text": [
      "<class 'numpy.ndarray'>\n",
      "<class 'numpy.ndarray'>\n"
     ]
    }
   ],
   "source": [
    "#check the types of the features and response\n",
    "#1st they should be seperate objects\n",
    "#2nd they should always be numbers\n",
    "#3rd they should be stored as numpy arrays\n",
    "print(type(iris.data))\n",
    "#response should always be numeric either if is a Classification or a Regression problem\n",
    "print(type(iris.target))"
   ]
  },
  {
   "cell_type": "code",
   "execution_count": 9,
   "metadata": {
    "collapsed": true
   },
   "outputs": [
    {
     "data": {
      "text/plain": [
       "(150, 4)"
      ]
     },
     "execution_count": 9,
     "metadata": {},
     "output_type": "execute_result"
    }
   ],
   "source": [
    "#check the shape of the features (first dimension=number of observations, second dimension=number of features)\n",
    "iris.data.shape"
   ]
  },
  {
   "cell_type": "code",
   "execution_count": 10,
   "metadata": {
    "collapsed": true
   },
   "outputs": [
    {
     "data": {
      "text/plain": [
       "(150,)"
      ]
     },
     "execution_count": 10,
     "metadata": {},
     "output_type": "execute_result"
    }
   ],
   "source": [
    "#check the shape of the response (single dimension matches the number of observations)\n",
    "iris.target.shape"
   ]
  },
  {
   "cell_type": "code",
   "execution_count": 11,
   "metadata": {
    "collapsed": true
   },
   "outputs": [],
   "source": [
    "#store feature matrix in X (upper X for a matrix)\n",
    "X = iris.data\n",
    "#store response vector in y (lower y for a vector)\n",
    "y = iris.target"
   ]
  },
  {
   "cell_type": "code",
   "execution_count": 12,
   "metadata": {
    "collapsed": true
   },
   "outputs": [
    {
     "name": "stdout",
     "output_type": "stream",
     "text": [
      "(150, 4)\n",
      "(150,)\n"
     ]
    }
   ],
   "source": [
    "#verify that X and y have the appropriate shapes\n",
    "print(X.shape)\n",
    "print(y.shape)"
   ]
  },
  {
   "cell_type": "markdown",
   "metadata": {},
   "source": [
    "## KNN (K=1)"
   ]
  },
  {
   "cell_type": "code",
   "execution_count": 13,
   "metadata": {
    "collapsed": true
   },
   "outputs": [],
   "source": [
    "#instantiating the estimator\n",
    "knn = KNeighborsClassifier(n_neighbors=1)"
   ]
  },
  {
   "cell_type": "code",
   "execution_count": 14,
   "metadata": {
    "collapsed": true
   },
   "outputs": [
    {
     "name": "stdout",
     "output_type": "stream",
     "text": [
      "KNeighborsClassifier(algorithm='auto', leaf_size=30, metric='minkowski',\n",
      "           metric_params=None, n_jobs=None, n_neighbors=1, p=2,\n",
      "           weights='uniform')\n"
     ]
    }
   ],
   "source": [
    "#if we want to see the other parameters for the estimator, which we left on default\n",
    "print(knn)"
   ]
  },
  {
   "cell_type": "code",
   "execution_count": 15,
   "metadata": {
    "collapsed": true
   },
   "outputs": [
    {
     "data": {
      "text/plain": [
       "KNeighborsClassifier(algorithm='auto', leaf_size=30, metric='minkowski',\n",
       "           metric_params=None, n_jobs=None, n_neighbors=1, p=2,\n",
       "           weights='uniform')"
      ]
     },
     "execution_count": 15,
     "metadata": {},
     "output_type": "execute_result"
    }
   ],
   "source": [
    "#fit the model with data\n",
    "knn.fit(X,y)"
   ]
  },
  {
   "cell_type": "code",
   "execution_count": 16,
   "metadata": {
    "collapsed": true
   },
   "outputs": [
    {
     "data": {
      "text/plain": [
       "array([2])"
      ]
     },
     "execution_count": 16,
     "metadata": {},
     "output_type": "execute_result"
    }
   ],
   "source": [
    "#now the model can predict a new observation. \n",
    "#option 1: pass the data as a nested list, which will be interpreted as having shape (1, 4)\n",
    "knn.predict([[3, 5, 4, 2]])"
   ]
  },
  {
   "cell_type": "code",
   "execution_count": 17,
   "metadata": {
    "collapsed": true
   },
   "outputs": [
    {
     "data": {
      "text/plain": [
       "array([2])"
      ]
     },
     "execution_count": 17,
     "metadata": {},
     "output_type": "execute_result"
    }
   ],
   "source": [
    "#option 2: explicitly change the shape to be (1, 4)\n",
    "knn.predict(np.reshape([3, 5, 4, 2],[1, 4]))"
   ]
  },
  {
   "cell_type": "code",
   "execution_count": 18,
   "metadata": {
    "collapsed": true
   },
   "outputs": [
    {
     "data": {
      "text/plain": [
       "array([2])"
      ]
     },
     "execution_count": 18,
     "metadata": {},
     "output_type": "execute_result"
    }
   ],
   "source": [
    "#option 3: explicitly change the first dimension to be 1, let NumPy infer that the second dimension should be 4\n",
    "knn.predict(np.reshape([3, 5, 4, 2],[1, -1]))"
   ]
  },
  {
   "cell_type": "code",
   "execution_count": 19,
   "metadata": {
    "collapsed": true
   },
   "outputs": [
    {
     "data": {
      "text/plain": [
       "'virginica'"
      ]
     },
     "execution_count": 19,
     "metadata": {},
     "output_type": "execute_result"
    }
   ],
   "source": [
    "iris.target_names[2]"
   ]
  },
  {
   "cell_type": "code",
   "execution_count": 20,
   "metadata": {
    "collapsed": true
   },
   "outputs": [
    {
     "data": {
      "text/plain": [
       "array([2, 0])"
      ]
     },
     "execution_count": 20,
     "metadata": {},
     "output_type": "execute_result"
    }
   ],
   "source": [
    "#predict more than one observations\n",
    "X_new = [[3, 5, 4, 2], [1, 2, 1, 2]]\n",
    "knn.predict(X_new)"
   ]
  },
  {
   "cell_type": "code",
   "execution_count": 21,
   "metadata": {
    "collapsed": true
   },
   "outputs": [
    {
     "data": {
      "text/plain": [
       "array(['virginica', 'setosa'], dtype='<U10')"
      ]
     },
     "execution_count": 21,
     "metadata": {},
     "output_type": "execute_result"
    }
   ],
   "source": [
    "iris.target_names[knn.predict(X_new)]"
   ]
  },
  {
   "cell_type": "markdown",
   "metadata": {},
   "source": [
    "## KNN (K=5)"
   ]
  },
  {
   "cell_type": "code",
   "execution_count": 22,
   "metadata": {
    "collapsed": true
   },
   "outputs": [],
   "source": [
    "#instatiate the model with n_neighbors=5 (K=5)\n",
    "knn = KNeighborsClassifier(n_neighbors = 5)"
   ]
  },
  {
   "cell_type": "code",
   "execution_count": 23,
   "metadata": {
    "collapsed": true
   },
   "outputs": [
    {
     "data": {
      "text/plain": [
       "KNeighborsClassifier(algorithm='auto', leaf_size=30, metric='minkowski',\n",
       "           metric_params=None, n_jobs=None, n_neighbors=5, p=2,\n",
       "           weights='uniform')"
      ]
     },
     "execution_count": 23,
     "metadata": {},
     "output_type": "execute_result"
    }
   ],
   "source": [
    "knn.fit(X,y)"
   ]
  },
  {
   "cell_type": "code",
   "execution_count": 24,
   "metadata": {
    "collapsed": true
   },
   "outputs": [
    {
     "data": {
      "text/plain": [
       "array(['versicolor', 'setosa'], dtype='<U10')"
      ]
     },
     "execution_count": 24,
     "metadata": {},
     "output_type": "execute_result"
    }
   ],
   "source": [
    "iris.target_names[knn.predict(X_new)]"
   ]
  },
  {
   "cell_type": "markdown",
   "metadata": {},
   "source": [
    "## Logistic Regression"
   ]
  },
  {
   "cell_type": "code",
   "execution_count": 25,
   "metadata": {
    "collapsed": true
   },
   "outputs": [],
   "source": [
    "#using Logistic Regression, which is another model used for classification (despite its name)"
   ]
  },
  {
   "cell_type": "code",
   "execution_count": 26,
   "metadata": {
    "collapsed": true
   },
   "outputs": [
    {
     "data": {
      "text/plain": [
       "array([2, 2])"
      ]
     },
     "execution_count": 26,
     "metadata": {},
     "output_type": "execute_result"
    }
   ],
   "source": [
    "logreg = LogisticRegression(multi_class = 'auto', solver = 'liblinear')\n",
    "logreg.fit(X, y)\n",
    "logreg.predict(X_new)"
   ]
  },
  {
   "cell_type": "markdown",
   "metadata": {},
   "source": [
    "## Evaluation Procedure: 1. Training accuracy"
   ]
  },
  {
   "cell_type": "code",
   "execution_count": 27,
   "metadata": {
    "collapsed": true
   },
   "outputs": [
    {
     "data": {
      "text/plain": [
       "array([0, 0, 0, 0, 0, 0, 0, 0, 0, 0, 0, 0, 0, 0, 0, 0, 0, 0, 0, 0, 0, 0,\n",
       "       0, 0, 0, 0, 0, 0, 0, 0, 0, 0, 0, 0, 0, 0, 0, 0, 0, 0, 0, 0, 0, 0,\n",
       "       0, 0, 0, 0, 0, 0, 1, 1, 1, 1, 1, 1, 1, 1, 1, 1, 1, 1, 1, 1, 1, 1,\n",
       "       2, 1, 1, 1, 2, 1, 1, 1, 1, 1, 1, 1, 1, 1, 1, 1, 1, 2, 2, 2, 1, 1,\n",
       "       1, 1, 1, 1, 1, 1, 1, 1, 1, 1, 1, 1, 2, 2, 2, 2, 2, 2, 2, 2, 2, 2,\n",
       "       2, 2, 2, 2, 2, 2, 2, 2, 2, 2, 2, 2, 2, 2, 2, 2, 2, 2, 2, 1, 2, 2,\n",
       "       2, 2, 2, 2, 2, 2, 2, 2, 2, 2, 2, 2, 2, 2, 2, 2, 2, 2])"
      ]
     },
     "execution_count": 27,
     "metadata": {},
     "output_type": "execute_result"
    }
   ],
   "source": [
    "#FOR THE LOGISTIC REGRESSION\n",
    "#train and test on the entire dataset\n",
    "#predict the response values for the observations in X\n",
    "logreg.predict(X)"
   ]
  },
  {
   "cell_type": "code",
   "execution_count": 28,
   "metadata": {
    "collapsed": true
   },
   "outputs": [
    {
     "data": {
      "text/plain": [
       "150"
      ]
     },
     "execution_count": 28,
     "metadata": {},
     "output_type": "execute_result"
    }
   ],
   "source": [
    "#store the predicted values\n",
    "y_pred = logreg.predict(X)\n",
    "#check length\n",
    "len(y_pred)"
   ]
  },
  {
   "cell_type": "code",
   "execution_count": 29,
   "metadata": {
    "collapsed": true
   },
   "outputs": [],
   "source": [
    "#compute classification accuracy for the model"
   ]
  },
  {
   "cell_type": "code",
   "execution_count": 30,
   "metadata": {
    "collapsed": true
   },
   "outputs": [
    {
     "data": {
      "text/plain": [
       "0.96"
      ]
     },
     "execution_count": 30,
     "metadata": {},
     "output_type": "execute_result"
    }
   ],
   "source": [
    "#96% of the predictions are correct. This is the training accuracy\n",
    "metrics.accuracy_score(y, y_pred)"
   ]
  },
  {
   "cell_type": "code",
   "execution_count": 31,
   "metadata": {
    "collapsed": true
   },
   "outputs": [
    {
     "data": {
      "text/plain": [
       "0.9666666666666667"
      ]
     },
     "execution_count": 31,
     "metadata": {},
     "output_type": "execute_result"
    }
   ],
   "source": [
    "#FOR THE KNN(K=5)\n",
    "knn = KNeighborsClassifier(n_neighbors = 5)\n",
    "knn.fit(X, y)\n",
    "y_pred = knn.predict(X)\n",
    "#slightly better with 96,7%\n",
    "metrics.accuracy_score(y, y_pred)"
   ]
  },
  {
   "cell_type": "code",
   "execution_count": 32,
   "metadata": {
    "collapsed": true
   },
   "outputs": [
    {
     "data": {
      "text/plain": [
       "1.0"
      ]
     },
     "execution_count": 32,
     "metadata": {},
     "output_type": "execute_result"
    }
   ],
   "source": [
    "#FOR THE KNN(K=1)\n",
    "knn = KNeighborsClassifier(n_neighbors = 1)\n",
    "knn.fit(X, y)\n",
    "y_pred = knn.predict(X)\n",
    "#we have 100% accuracy for K=1 because KNN has memorized the training set and it's finding the exact same observation\n",
    "#a very low value of K creates a high complexity model which overfits the traing data!!!\n",
    "metrics.accuracy_score(y, y_pred)"
   ]
  },
  {
   "cell_type": "markdown",
   "metadata": {},
   "source": [
    "## Evaluation Procedure: 2. Train/Test split"
   ]
  },
  {
   "cell_type": "code",
   "execution_count": 33,
   "metadata": {
    "collapsed": true
   },
   "outputs": [],
   "source": [
    "#here random_state = 4 is used in order to split the dataset the exact same way every time\n",
    "X_train, X_test, y_train, y_test = train_test_split(X, y, test_size = 0.4, random_state = 4)"
   ]
  },
  {
   "cell_type": "code",
   "execution_count": 34,
   "metadata": {
    "collapsed": true
   },
   "outputs": [
    {
     "name": "stdout",
     "output_type": "stream",
     "text": [
      "(90, 4)\n",
      "(60, 4)\n",
      "(90,)\n",
      "(60,)\n"
     ]
    }
   ],
   "source": [
    "#check the shape of the new objects\n",
    "print(X_train.shape)\n",
    "print(X_test.shape)\n",
    "print(y_train.shape)\n",
    "print(y_test.shape)"
   ]
  },
  {
   "cell_type": "code",
   "execution_count": 35,
   "metadata": {
    "collapsed": true
   },
   "outputs": [
    {
     "data": {
      "text/plain": [
       "LogisticRegression(C=1.0, class_weight=None, dual=False, fit_intercept=True,\n",
       "          intercept_scaling=1, max_iter=100, multi_class='auto',\n",
       "          n_jobs=None, penalty='l2', random_state=None, solver='liblinear',\n",
       "          tol=0.0001, verbose=0, warm_start=False)"
      ]
     },
     "execution_count": 35,
     "metadata": {},
     "output_type": "execute_result"
    }
   ],
   "source": [
    "#FOR LINEAR REGRESSION\n",
    "#instantiating and fitting the model\n",
    "logreg = LogisticRegression(multi_class = 'auto', solver = 'liblinear')\n",
    "logreg.fit(X_train, y_train)"
   ]
  },
  {
   "cell_type": "code",
   "execution_count": 36,
   "metadata": {
    "collapsed": true
   },
   "outputs": [
    {
     "data": {
      "text/plain": [
       "0.9333333333333333"
      ]
     },
     "execution_count": 36,
     "metadata": {},
     "output_type": "execute_result"
    }
   ],
   "source": [
    "#making predictions\n",
    "y_pred = logreg.predict(X_test)\n",
    "#compare the actual response values (y_test) with the predicted ones (y_pred)\n",
    "metrics.accuracy_score(y_test, y_pred)"
   ]
  },
  {
   "cell_type": "code",
   "execution_count": 37,
   "metadata": {
    "collapsed": true
   },
   "outputs": [
    {
     "data": {
      "text/plain": [
       "0.9666666666666667"
      ]
     },
     "execution_count": 37,
     "metadata": {},
     "output_type": "execute_result"
    }
   ],
   "source": [
    "#FOR KNN(K=5)\n",
    "knn = KNeighborsClassifier(n_neighbors=5)\n",
    "knn.fit(X_train, y_train)\n",
    "y_pred = knn.predict(X_test)\n",
    "metrics.accuracy_score(y_test, y_pred)"
   ]
  },
  {
   "cell_type": "code",
   "execution_count": 38,
   "metadata": {
    "collapsed": true
   },
   "outputs": [
    {
     "data": {
      "text/plain": [
       "0.95"
      ]
     },
     "execution_count": 38,
     "metadata": {},
     "output_type": "execute_result"
    }
   ],
   "source": [
    "#FOR KNN(K=1)\n",
    "knn = KNeighborsClassifier(n_neighbors=1)\n",
    "knn.fit(X_train, y_train)\n",
    "y_pred = knn.predict(X_test)\n",
    "metrics.accuracy_score(y_test, y_pred)\n",
    "#Out of the above scores we would say that KNN(K=5) is the best model to use for this dataset"
   ]
  },
  {
   "cell_type": "markdown",
   "metadata": {},
   "source": [
    "### Making a loop to find out if other Ks perform better"
   ]
  },
  {
   "cell_type": "code",
   "execution_count": 39,
   "metadata": {
    "collapsed": true
   },
   "outputs": [],
   "source": [
    "k_range = range(1, 26)\n",
    "scores = []\n",
    "for num in k_range:\n",
    "    knn = KNeighborsClassifier(n_neighbors=num)\n",
    "    knn.fit(X_train, y_train)\n",
    "    y_pred = knn.predict(X_test)\n",
    "    scores.append(metrics.accuracy_score(y_test, y_pred))"
   ]
  },
  {
   "cell_type": "code",
   "execution_count": 40,
   "metadata": {
    "collapsed": true
   },
   "outputs": [
    {
     "data": {
      "text/plain": [
       "Text(0, 0.5, 'Accuracy metrics')"
      ]
     },
     "execution_count": 40,
     "metadata": {},
     "output_type": "execute_result"
    },
    {
     "data": {
      "image/png": "[encoded data removed]",
      "text/plain": [
       "<Figure size 432x288 with 1 Axes>"
      ]
     },
     "metadata": {
      "needs_background": "light"
     },
     "output_type": "display_data"
    }
   ],
   "source": [
    "plt.plot(k_range, scores)\n",
    "plt.xlabel('K value')\n",
    "plt.ylabel('Accuracy metrics')\n",
    "#Remember that testing accuracy penalizes models that are too complex or not complex enough! Typical example here"
   ]
  },
  {
   "cell_type": "markdown",
   "metadata": {},
   "source": [
    "### Making predictions on out-of-sample data"
   ]
  },
  {
   "cell_type": "code",
   "execution_count": 41,
   "metadata": {
    "collapsed": true
   },
   "outputs": [
    {
     "data": {
      "text/plain": [
       "array([1])"
      ]
     },
     "execution_count": 41,
     "metadata": {},
     "output_type": "execute_result"
    }
   ],
   "source": [
    "knn = KNeighborsClassifier(n_neighbors=11)\n",
    "knn.fit(X, y)\n",
    "knn.predict([[3, 5, 4, 2]])"
   ]
  },
  {
   "cell_type": "code",
   "execution_count": null,
   "metadata": {
    "collapsed": true
   },
   "outputs": [],
   "source": [
    "'''Because the train/test split evaluation procedure has the downside of different results every time another part of the\n",
    "dataset is being used, K-fold cross-validation can come to the rescue. This above procedure though, is flexible and \n",
    "quick'''"
   ]
  },
  {
   "cell_type": "markdown",
   "metadata": {},
   "source": [
    "## Evaluation Procedure: 3. Cross-Validation"
   ]
  },
  {
   "cell_type": "code",
   "execution_count": 42,
   "metadata": {
    "collapsed": true
   },
   "outputs": [
    {
     "name": "stdout",
     "output_type": "stream",
     "text": [
      "[1.         0.93333333 1.         1.         0.86666667 0.93333333\n",
      " 0.93333333 1.         1.         1.        ]\n"
     ]
    }
   ],
   "source": [
    "#10-fold cross validation with K=5 for KNN\n",
    "knn = KNeighborsClassifier(n_neighbors=5)\n",
    "scores = cross_val_score(knn, X, y, cv=10, scoring='accuracy')\n",
    "print(scores)"
   ]
  },
  {
   "cell_type": "code",
   "execution_count": 43,
   "metadata": {
    "collapsed": true
   },
   "outputs": [
    {
     "name": "stdout",
     "output_type": "stream",
     "text": [
      "0.9666666666666668\n"
     ]
    }
   ],
   "source": [
    "#use average accuracy as an estimate of out-of-sample accuracy\n",
    "print(scores.mean())"
   ]
  },
  {
   "cell_type": "code",
   "execution_count": 44,
   "metadata": {
    "collapsed": true
   },
   "outputs": [
    {
     "name": "stdout",
     "output_type": "stream",
     "text": [
      "[0.96, 0.9533333333333334, 0.9666666666666666, 0.9666666666666666, 0.9666666666666668, 0.9666666666666668, 0.9666666666666668, 0.9666666666666668, 0.9733333333333334, 0.9666666666666668, 0.9666666666666668, 0.9733333333333334, 0.9800000000000001, 0.9733333333333334, 0.9733333333333334, 0.9733333333333334, 0.9733333333333334, 0.9800000000000001, 0.9733333333333334, 0.9800000000000001, 0.9666666666666666, 0.9666666666666666, 0.9733333333333334, 0.96, 0.9666666666666666, 0.96, 0.9666666666666666, 0.9533333333333334, 0.9533333333333334, 0.9533333333333334]\n"
     ]
    }
   ],
   "source": [
    "#search again for an optimal value of K for KNN\n",
    "k_range = range(1, 31)\n",
    "k_scores = []\n",
    "for num in k_range:\n",
    "    knn = KNeighborsClassifier(n_neighbors=num)\n",
    "    scores = cross_val_score(knn, X, y, cv=10, scoring='accuracy')\n",
    "    k_scores.append(scores.mean())\n",
    "print(k_scores)"
   ]
  },
  {
   "cell_type": "code",
   "execution_count": 45,
   "metadata": {
    "collapsed": true
   },
   "outputs": [
    {
     "data": {
      "text/plain": [
       "Text(0, 0.5, 'Cross-validated accuracy')"
      ]
     },
     "execution_count": 45,
     "metadata": {},
     "output_type": "execute_result"
    },
    {
     "data": {
      "image/png": "[encoded data removed]",
      "text/plain": [
       "<Figure size 432x288 with 1 Axes>"
      ]
     },
     "metadata": {
      "needs_background": "light"
     },
     "output_type": "display_data"
    }
   ],
   "source": [
    "#visualize the accuracy scores\n",
    "plt.plot(k_range, k_scores, color='green', marker='o', markersize=8)\n",
    "plt.xlabel('Value of K')\n",
    "plt.ylabel('Cross-validated accuracy')"
   ]
  },
  {
   "cell_type": "markdown",
   "metadata": {},
   "source": [
    "### Compare the models' accuracy"
   ]
  },
  {
   "cell_type": "code",
   "execution_count": 46,
   "metadata": {
    "collapsed": true
   },
   "outputs": [
    {
     "name": "stdout",
     "output_type": "stream",
     "text": [
      "0.9800000000000001\n"
     ]
    }
   ],
   "source": [
    "#Higher values of K produce lower complexity models and therefore the K=20 is a better choise\n",
    "#Compare the means of cross-validation for KNN and Logistic Regression to choose which model fits better to this dataset\n",
    "knn = KNeighborsClassifier(n_neighbors=20)\n",
    "print(cross_val_score(knn, X, y, cv=10, scoring='accuracy').mean())"
   ]
  },
  {
   "cell_type": "code",
   "execution_count": 47,
   "metadata": {
    "collapsed": true
   },
   "outputs": [
    {
     "name": "stdout",
     "output_type": "stream",
     "text": [
      "0.9533333333333334\n"
     ]
    }
   ],
   "source": [
    "logreg = LogisticRegression(multi_class = 'auto', solver = 'liblinear')\n",
    "print(cross_val_score(logreg, X, y, cv=10, scoring='accuracy').mean())"
   ]
  },
  {
   "cell_type": "markdown",
   "metadata": {},
   "source": [
    "### Parameter tuning with cross-validation \n",
    "The K parameter"
   ]
  },
  {
   "cell_type": "code",
   "execution_count": 53,
   "metadata": {
    "collapsed": true
   },
   "outputs": [
    {
     "name": "stdout",
     "output_type": "stream",
     "text": [
      "{'n_neighbors': [1, 2, 3, 4, 5, 6, 7, 8, 9, 10, 11, 12, 13, 14, 15, 16, 17, 18, 19, 20, 21, 22, 23, 24, 25, 26, 27, 28, 29, 30]}\n"
     ]
    }
   ],
   "source": [
    "#how to replace the for loop and provide aditional functionality with GridSearchCV\n",
    "#define the parameter values that should be searched and create a parameter grid. Map the parameter names to the values\n",
    "k_range = list(range(1, 31))\n",
    "param_grid = dict(n_neighbors = k_range)\n",
    "print(param_grid)"
   ]
  },
  {
   "cell_type": "code",
   "execution_count": 54,
   "metadata": {
    "collapsed": true
   },
   "outputs": [],
   "source": [
    "#instantiate the grid\n",
    "grid = GridSearchCV(knn, param_grid, cv=10, scoring='accuracy')"
   ]
  },
  {
   "cell_type": "code",
   "execution_count": 55,
   "metadata": {
    "collapsed": true
   },
   "outputs": [
    {
     "data": {
      "text/plain": [
       "GridSearchCV(cv=10, error_score='raise-deprecating',\n",
       "       estimator=KNeighborsClassifier(algorithm='auto', leaf_size=30, metric='minkowski',\n",
       "           metric_params=None, n_jobs=None, n_neighbors=20, p=2,\n",
       "           weights='uniform'),\n",
       "       fit_params=None, iid='warn', n_jobs=None,\n",
       "       param_grid={'n_neighbors': [1, 2, 3, 4, 5, 6, 7, 8, 9, 10, 11, 12, 13, 14, 15, 16, 17, 18, 19, 20, 21, 22, 23, 24, 25, 26, 27, 28, 29, 30]},\n",
       "       pre_dispatch='2*n_jobs', refit=True, return_train_score='warn',\n",
       "       scoring='accuracy', verbose=0)"
      ]
     },
     "execution_count": 55,
     "metadata": {},
     "output_type": "execute_result"
    }
   ],
   "source": [
    "#fit the grid with data\n",
    "grid.fit(X, y)"
   ]
  },
  {
   "cell_type": "code",
   "execution_count": 63,
   "metadata": {
    "collapsed": true
   },
   "outputs": [],
   "source": [
    "# convert the search results into a pandas DataFrame\n",
    "results = pd.DataFrame(grid.cv_results_)"
   ]
  },
  {
   "cell_type": "code",
   "execution_count": 64,
   "metadata": {
    "collapsed": true
   },
   "outputs": [
    {
     "data": {
      "text/html": [
       "<div>\n",
       "<style scoped>\n",
       "    .dataframe tbody tr th:only-of-type {\n",
       "        vertical-align: middle;\n",
       "    }\n",
       "\n",
       "    .dataframe tbody tr th {\n",
       "        vertical-align: top;\n",
       "    }\n",
       "\n",
       "    .dataframe thead th {\n",
       "        text-align: right;\n",
       "    }\n",
       "</style>\n",
       "<table border=\"1\" class=\"dataframe\">\n",
       "  <thead>\n",
       "    <tr style=\"text-align: right;\">\n",
       "      <th></th>\n",
       "      <th>mean_test_score</th>\n",
       "      <th>std_test_score</th>\n",
       "      <th>params</th>\n",
       "    </tr>\n",
       "  </thead>\n",
       "  <tbody>\n",
       "    <tr>\n",
       "      <th>0</th>\n",
       "      <td>0.960000</td>\n",
       "      <td>0.053333</td>\n",
       "      <td>{'n_neighbors': 1}</td>\n",
       "    </tr>\n",
       "    <tr>\n",
       "      <th>1</th>\n",
       "      <td>0.953333</td>\n",
       "      <td>0.052068</td>\n",
       "      <td>{'n_neighbors': 2}</td>\n",
       "    </tr>\n",
       "    <tr>\n",
       "      <th>2</th>\n",
       "      <td>0.966667</td>\n",
       "      <td>0.044721</td>\n",
       "      <td>{'n_neighbors': 3}</td>\n",
       "    </tr>\n",
       "    <tr>\n",
       "      <th>3</th>\n",
       "      <td>0.966667</td>\n",
       "      <td>0.044721</td>\n",
       "      <td>{'n_neighbors': 4}</td>\n",
       "    </tr>\n",
       "    <tr>\n",
       "      <th>4</th>\n",
       "      <td>0.966667</td>\n",
       "      <td>0.044721</td>\n",
       "      <td>{'n_neighbors': 5}</td>\n",
       "    </tr>\n",
       "    <tr>\n",
       "      <th>5</th>\n",
       "      <td>0.966667</td>\n",
       "      <td>0.044721</td>\n",
       "      <td>{'n_neighbors': 6}</td>\n",
       "    </tr>\n",
       "    <tr>\n",
       "      <th>6</th>\n",
       "      <td>0.966667</td>\n",
       "      <td>0.044721</td>\n",
       "      <td>{'n_neighbors': 7}</td>\n",
       "    </tr>\n",
       "    <tr>\n",
       "      <th>7</th>\n",
       "      <td>0.966667</td>\n",
       "      <td>0.044721</td>\n",
       "      <td>{'n_neighbors': 8}</td>\n",
       "    </tr>\n",
       "    <tr>\n",
       "      <th>8</th>\n",
       "      <td>0.973333</td>\n",
       "      <td>0.032660</td>\n",
       "      <td>{'n_neighbors': 9}</td>\n",
       "    </tr>\n",
       "    <tr>\n",
       "      <th>9</th>\n",
       "      <td>0.966667</td>\n",
       "      <td>0.044721</td>\n",
       "      <td>{'n_neighbors': 10}</td>\n",
       "    </tr>\n",
       "    <tr>\n",
       "      <th>10</th>\n",
       "      <td>0.966667</td>\n",
       "      <td>0.044721</td>\n",
       "      <td>{'n_neighbors': 11}</td>\n",
       "    </tr>\n",
       "    <tr>\n",
       "      <th>11</th>\n",
       "      <td>0.973333</td>\n",
       "      <td>0.032660</td>\n",
       "      <td>{'n_neighbors': 12}</td>\n",
       "    </tr>\n",
       "    <tr>\n",
       "      <th>12</th>\n",
       "      <td>0.980000</td>\n",
       "      <td>0.030551</td>\n",
       "      <td>{'n_neighbors': 13}</td>\n",
       "    </tr>\n",
       "    <tr>\n",
       "      <th>13</th>\n",
       "      <td>0.973333</td>\n",
       "      <td>0.044222</td>\n",
       "      <td>{'n_neighbors': 14}</td>\n",
       "    </tr>\n",
       "    <tr>\n",
       "      <th>14</th>\n",
       "      <td>0.973333</td>\n",
       "      <td>0.032660</td>\n",
       "      <td>{'n_neighbors': 15}</td>\n",
       "    </tr>\n",
       "    <tr>\n",
       "      <th>15</th>\n",
       "      <td>0.973333</td>\n",
       "      <td>0.032660</td>\n",
       "      <td>{'n_neighbors': 16}</td>\n",
       "    </tr>\n",
       "    <tr>\n",
       "      <th>16</th>\n",
       "      <td>0.973333</td>\n",
       "      <td>0.032660</td>\n",
       "      <td>{'n_neighbors': 17}</td>\n",
       "    </tr>\n",
       "    <tr>\n",
       "      <th>17</th>\n",
       "      <td>0.980000</td>\n",
       "      <td>0.030551</td>\n",
       "      <td>{'n_neighbors': 18}</td>\n",
       "    </tr>\n",
       "    <tr>\n",
       "      <th>18</th>\n",
       "      <td>0.973333</td>\n",
       "      <td>0.032660</td>\n",
       "      <td>{'n_neighbors': 19}</td>\n",
       "    </tr>\n",
       "    <tr>\n",
       "      <th>19</th>\n",
       "      <td>0.980000</td>\n",
       "      <td>0.030551</td>\n",
       "      <td>{'n_neighbors': 20}</td>\n",
       "    </tr>\n",
       "    <tr>\n",
       "      <th>20</th>\n",
       "      <td>0.966667</td>\n",
       "      <td>0.033333</td>\n",
       "      <td>{'n_neighbors': 21}</td>\n",
       "    </tr>\n",
       "    <tr>\n",
       "      <th>21</th>\n",
       "      <td>0.966667</td>\n",
       "      <td>0.033333</td>\n",
       "      <td>{'n_neighbors': 22}</td>\n",
       "    </tr>\n",
       "    <tr>\n",
       "      <th>22</th>\n",
       "      <td>0.973333</td>\n",
       "      <td>0.032660</td>\n",
       "      <td>{'n_neighbors': 23}</td>\n",
       "    </tr>\n",
       "    <tr>\n",
       "      <th>23</th>\n",
       "      <td>0.960000</td>\n",
       "      <td>0.044222</td>\n",
       "      <td>{'n_neighbors': 24}</td>\n",
       "    </tr>\n",
       "    <tr>\n",
       "      <th>24</th>\n",
       "      <td>0.966667</td>\n",
       "      <td>0.033333</td>\n",
       "      <td>{'n_neighbors': 25}</td>\n",
       "    </tr>\n",
       "    <tr>\n",
       "      <th>25</th>\n",
       "      <td>0.960000</td>\n",
       "      <td>0.044222</td>\n",
       "      <td>{'n_neighbors': 26}</td>\n",
       "    </tr>\n",
       "    <tr>\n",
       "      <th>26</th>\n",
       "      <td>0.966667</td>\n",
       "      <td>0.044721</td>\n",
       "      <td>{'n_neighbors': 27}</td>\n",
       "    </tr>\n",
       "    <tr>\n",
       "      <th>27</th>\n",
       "      <td>0.953333</td>\n",
       "      <td>0.042687</td>\n",
       "      <td>{'n_neighbors': 28}</td>\n",
       "    </tr>\n",
       "    <tr>\n",
       "      <th>28</th>\n",
       "      <td>0.953333</td>\n",
       "      <td>0.042687</td>\n",
       "      <td>{'n_neighbors': 29}</td>\n",
       "    </tr>\n",
       "    <tr>\n",
       "      <th>29</th>\n",
       "      <td>0.953333</td>\n",
       "      <td>0.042687</td>\n",
       "      <td>{'n_neighbors': 30}</td>\n",
       "    </tr>\n",
       "  </tbody>\n",
       "</table>\n",
       "</div>"
      ],
      "text/plain": [
       "    mean_test_score  std_test_score               params\n",
       "0          0.960000        0.053333   {'n_neighbors': 1}\n",
       "1          0.953333        0.052068   {'n_neighbors': 2}\n",
       "2          0.966667        0.044721   {'n_neighbors': 3}\n",
       "3          0.966667        0.044721   {'n_neighbors': 4}\n",
       "4          0.966667        0.044721   {'n_neighbors': 5}\n",
       "5          0.966667        0.044721   {'n_neighbors': 6}\n",
       "6          0.966667        0.044721   {'n_neighbors': 7}\n",
       "7          0.966667        0.044721   {'n_neighbors': 8}\n",
       "8          0.973333        0.032660   {'n_neighbors': 9}\n",
       "9          0.966667        0.044721  {'n_neighbors': 10}\n",
       "10         0.966667        0.044721  {'n_neighbors': 11}\n",
       "11         0.973333        0.032660  {'n_neighbors': 12}\n",
       "12         0.980000        0.030551  {'n_neighbors': 13}\n",
       "13         0.973333        0.044222  {'n_neighbors': 14}\n",
       "14         0.973333        0.032660  {'n_neighbors': 15}\n",
       "15         0.973333        0.032660  {'n_neighbors': 16}\n",
       "16         0.973333        0.032660  {'n_neighbors': 17}\n",
       "17         0.980000        0.030551  {'n_neighbors': 18}\n",
       "18         0.973333        0.032660  {'n_neighbors': 19}\n",
       "19         0.980000        0.030551  {'n_neighbors': 20}\n",
       "20         0.966667        0.033333  {'n_neighbors': 21}\n",
       "21         0.966667        0.033333  {'n_neighbors': 22}\n",
       "22         0.973333        0.032660  {'n_neighbors': 23}\n",
       "23         0.960000        0.044222  {'n_neighbors': 24}\n",
       "24         0.966667        0.033333  {'n_neighbors': 25}\n",
       "25         0.960000        0.044222  {'n_neighbors': 26}\n",
       "26         0.966667        0.044721  {'n_neighbors': 27}\n",
       "27         0.953333        0.042687  {'n_neighbors': 28}\n",
       "28         0.953333        0.042687  {'n_neighbors': 29}\n",
       "29         0.953333        0.042687  {'n_neighbors': 30}"
      ]
     },
     "execution_count": 64,
     "metadata": {},
     "output_type": "execute_result"
    }
   ],
   "source": [
    "# view the mean and standard deviation of the test scores for each set of parameters\n",
    "# while we pay attention to the mean we must see if the std is high. \n",
    "#Because that means that the cross-validate estimate of the accuracy might be not much reliable\n",
    "results[['mean_test_score', 'std_test_score', 'params']]"
   ]
  },
  {
   "cell_type": "code",
   "execution_count": 70,
   "metadata": {
    "collapsed": true
   },
   "outputs": [
    {
     "name": "stdout",
     "output_type": "stream",
     "text": [
      "{'n_neighbors': 1}\n",
      "0.053333333333333316\n",
      "0.96\n"
     ]
    }
   ],
   "source": [
    "# how to examine the results of the first set of parameters for example\n",
    "print(results['params'][0])\n",
    "print(results['std_test_score'][0])\n",
    "print(results['mean_test_score'][0])"
   ]
  },
  {
   "cell_type": "code",
   "execution_count": 83,
   "metadata": {
    "collapsed": true
   },
   "outputs": [
    {
     "data": {
      "text/plain": [
       "Text(0, 0.5, 'Cross validated accuracy')"
      ]
     },
     "execution_count": 83,
     "metadata": {},
     "output_type": "execute_result"
    },
    {
     "data": {
      "image/png": "[encoded data removed]",
      "text/plain": [
       "<Figure size 432x288 with 1 Axes>"
      ]
     },
     "metadata": {
      "needs_background": "light"
     },
     "output_type": "display_data"
    }
   ],
   "source": [
    "#plot the results for a better view\n",
    "plt.plot(k_range, results['mean_test_score'], color='green', marker='o')\n",
    "plt.xlabel('Values of K for KNN')\n",
    "plt.ylabel('Cross validated accuracy')"
   ]
  },
  {
   "cell_type": "code",
   "execution_count": 84,
   "metadata": {
    "collapsed": true
   },
   "outputs": [
    {
     "name": "stdout",
     "output_type": "stream",
     "text": [
      "0.98\n",
      "{'n_neighbors': 13}\n",
      "KNeighborsClassifier(algorithm='auto', leaf_size=30, metric='minkowski',\n",
      "           metric_params=None, n_jobs=None, n_neighbors=13, p=2,\n",
      "           weights='uniform')\n"
     ]
    }
   ],
   "source": [
    "#examine the best model\n",
    "print(grid.best_score_)\n",
    "print(grid.best_params_)\n",
    "print(grid.best_estimator_)"
   ]
  },
  {
   "cell_type": "markdown",
   "metadata": {},
   "source": [
    "### Parameter tuning with cross-validation\n",
    "The weights parameter"
   ]
  },
  {
   "cell_type": "code",
   "execution_count": 85,
   "metadata": {
    "collapsed": true
   },
   "outputs": [],
   "source": [
    "#the default value for weights is 'uniform' for KNN but it can be changed to 'distance'\n",
    "#define the parameter values that should be searched\n",
    "k_range = list(range(1, 31))\n",
    "weight_options = ['uniform', 'distance']"
   ]
  },
  {
   "cell_type": "code",
   "execution_count": 87,
   "metadata": {
    "collapsed": true
   },
   "outputs": [
    {
     "name": "stdout",
     "output_type": "stream",
     "text": [
      "{'n_neighbors': [1, 2, 3, 4, 5, 6, 7, 8, 9, 10, 11, 12, 13, 14, 15, 16, 17, 18, 19, 20, 21, 22, 23, 24, 25, 26, 27, 28, 29, 30], 'weights': ['uniform', 'distance']}\n"
     ]
    }
   ],
   "source": [
    "#create a parameter grid as before\n",
    "param_grid = dict(n_neighbors=k_range, weights=weight_options)\n",
    "print(param_grid)"
   ]
  },
  {
   "cell_type": "code",
   "execution_count": 88,
   "metadata": {
    "collapsed": true
   },
   "outputs": [
    {
     "data": {
      "text/plain": [
       "GridSearchCV(cv=10, error_score='raise-deprecating',\n",
       "       estimator=KNeighborsClassifier(algorithm='auto', leaf_size=30, metric='minkowski',\n",
       "           metric_params=None, n_jobs=None, n_neighbors=20, p=2,\n",
       "           weights='uniform'),\n",
       "       fit_params=None, iid='warn', n_jobs=None,\n",
       "       param_grid={'n_neighbors': [1, 2, 3, 4, 5, 6, 7, 8, 9, 10, 11, 12, 13, 14, 15, 16, 17, 18, 19, 20, 21, 22, 23, 24, 25, 26, 27, 28, 29, 30], 'weights': ['uniform', 'distance']},\n",
       "       pre_dispatch='2*n_jobs', refit=True, return_train_score='warn',\n",
       "       scoring='accuracy', verbose=0)"
      ]
     },
     "execution_count": 88,
     "metadata": {},
     "output_type": "execute_result"
    }
   ],
   "source": [
    "#instantiate and fit the grid\n",
    "grid = GridSearchCV(knn, param_grid, cv=10, scoring='accuracy')\n",
    "grid.fit(X, y)"
   ]
  },
  {
   "cell_type": "code",
   "execution_count": 91,
   "metadata": {
    "collapsed": true
   },
   "outputs": [
    {
     "name": "stdout",
     "output_type": "stream",
     "text": [
      "    mean_fit_time  std_fit_time  mean_score_time  std_score_time  \\\n",
      "0        0.000000      0.000000         0.000000        0.000000   \n",
      "1        0.000000      0.000000         0.008465        0.020727   \n",
      "2        0.000654      0.001962         0.001562        0.004687   \n",
      "3        0.001562      0.004687         0.000000        0.000000   \n",
      "4        0.001565      0.004696         0.001559        0.004677   \n",
      "5        0.000000      0.000000         0.001559        0.004677   \n",
      "6        0.000000      0.000000         0.000000        0.000000   \n",
      "7        0.000000      0.000000         0.000000        0.000000   \n",
      "8        0.000000      0.000000         0.003125        0.006249   \n",
      "9        0.000000      0.000000         0.001566        0.004697   \n",
      "10       0.000000      0.000000         0.000000        0.000000   \n",
      "11       0.000000      0.000000         0.002218        0.004878   \n",
      "12       0.000000      0.000000         0.000000        0.000000   \n",
      "13       0.000000      0.000000         0.000000        0.000000   \n",
      "14       0.000000      0.000000         0.000000        0.000000   \n",
      "15       0.000000      0.000000         0.000000        0.000000   \n",
      "16       0.000000      0.000000         0.000000        0.000000   \n",
      "17       0.000000      0.000000         0.000000        0.000000   \n",
      "18       0.000000      0.000000         0.000651        0.001953   \n",
      "19       0.001564      0.004691         0.000000        0.000000   \n",
      "20       0.001562      0.004686         0.005339        0.006997   \n",
      "21       0.000000      0.000000         0.001563        0.004689   \n",
      "22       0.001560      0.004681         0.001564        0.004691   \n",
      "23       0.000000      0.000000         0.001562        0.004687   \n",
      "24       0.000000      0.000000         0.003128        0.006257   \n",
      "25       0.001559      0.004676         0.001562        0.004686   \n",
      "26       0.000000      0.000000         0.003125        0.009376   \n",
      "27       0.001561      0.004682         0.002218        0.004881   \n",
      "28       0.000651      0.001953         0.003124        0.006249   \n",
      "29       0.001562      0.004687         0.000000        0.000000   \n",
      "30       0.000000      0.000000         0.001563        0.004689   \n",
      "31       0.000000      0.000000         0.002213        0.004873   \n",
      "32       0.001562      0.004686         0.006248        0.007653   \n",
      "33       0.001562      0.004686         0.000000        0.000000   \n",
      "34       0.000000      0.000000         0.000000        0.000000   \n",
      "35       0.000000      0.000000         0.001562        0.004687   \n",
      "36       0.000000      0.000000         0.000000        0.000000   \n",
      "37       0.000000      0.000000         0.001562        0.004686   \n",
      "38       0.001562      0.004687         0.001562        0.004686   \n",
      "39       0.000000      0.000000         0.000000        0.000000   \n",
      "40       0.000000      0.000000         0.003775        0.006228   \n",
      "41       0.001562      0.004686         0.001562        0.004686   \n",
      "42       0.001563      0.004688         0.000000        0.000000   \n",
      "43       0.000000      0.000000         0.001562        0.004687   \n",
      "44       0.003125      0.006250         0.003124        0.006248   \n",
      "45       0.001562      0.004687         0.003124        0.006248   \n",
      "46       0.000000      0.000000         0.002214        0.004873   \n",
      "47       0.001563      0.004689         0.000651        0.001953   \n",
      "48       0.001562      0.004687         0.000652        0.001957   \n",
      "49       0.003125      0.006251         0.000000        0.000000   \n",
      "50       0.002568      0.004965         0.000803        0.002409   \n",
      "51       0.001205      0.002997         0.000000        0.000000   \n",
      "52       0.000000      0.000000         0.000000        0.000000   \n",
      "53       0.000000      0.000000         0.001562        0.004686   \n",
      "54       0.000000      0.000000         0.001562        0.004687   \n",
      "55       0.000651      0.001952         0.001562        0.004687   \n",
      "56       0.000000      0.000000         0.001562        0.004686   \n",
      "57       0.000000      0.000000         0.001562        0.004687   \n",
      "58       0.001563      0.004689         0.000651        0.001952   \n",
      "59       0.000000      0.000000         0.000000        0.000000   \n",
      "\n",
      "   param_n_neighbors param_weights  \\\n",
      "0                  1       uniform   \n",
      "1                  1      distance   \n",
      "2                  2       uniform   \n",
      "3                  2      distance   \n",
      "4                  3       uniform   \n",
      "5                  3      distance   \n",
      "6                  4       uniform   \n",
      "7                  4      distance   \n",
      "8                  5       uniform   \n",
      "9                  5      distance   \n",
      "10                 6       uniform   \n",
      "11                 6      distance   \n",
      "12                 7       uniform   \n",
      "13                 7      distance   \n",
      "14                 8       uniform   \n",
      "15                 8      distance   \n",
      "16                 9       uniform   \n",
      "17                 9      distance   \n",
      "18                10       uniform   \n",
      "19                10      distance   \n",
      "20                11       uniform   \n",
      "21                11      distance   \n",
      "22                12       uniform   \n",
      "23                12      distance   \n",
      "24                13       uniform   \n",
      "25                13      distance   \n",
      "26                14       uniform   \n",
      "27                14      distance   \n",
      "28                15       uniform   \n",
      "29                15      distance   \n",
      "30                16       uniform   \n",
      "31                16      distance   \n",
      "32                17       uniform   \n",
      "33                17      distance   \n",
      "34                18       uniform   \n",
      "35                18      distance   \n",
      "36                19       uniform   \n",
      "37                19      distance   \n",
      "38                20       uniform   \n",
      "39                20      distance   \n",
      "40                21       uniform   \n",
      "41                21      distance   \n",
      "42                22       uniform   \n",
      "43                22      distance   \n",
      "44                23       uniform   \n",
      "45                23      distance   \n",
      "46                24       uniform   \n",
      "47                24      distance   \n",
      "48                25       uniform   \n",
      "49                25      distance   \n",
      "50                26       uniform   \n",
      "51                26      distance   \n",
      "52                27       uniform   \n",
      "53                27      distance   \n",
      "54                28       uniform   \n",
      "55                28      distance   \n",
      "56                29       uniform   \n",
      "57                29      distance   \n",
      "58                30       uniform   \n",
      "59                30      distance   \n",
      "\n",
      "                                        params  split0_test_score  \\\n",
      "0     {'n_neighbors': 1, 'weights': 'uniform'}           1.000000   \n",
      "1    {'n_neighbors': 1, 'weights': 'distance'}           1.000000   \n",
      "2     {'n_neighbors': 2, 'weights': 'uniform'}           1.000000   \n",
      "3    {'n_neighbors': 2, 'weights': 'distance'}           1.000000   \n",
      "4     {'n_neighbors': 3, 'weights': 'uniform'}           1.000000   \n",
      "5    {'n_neighbors': 3, 'weights': 'distance'}           1.000000   \n",
      "6     {'n_neighbors': 4, 'weights': 'uniform'}           1.000000   \n",
      "7    {'n_neighbors': 4, 'weights': 'distance'}           1.000000   \n",
      "8     {'n_neighbors': 5, 'weights': 'uniform'}           1.000000   \n",
      "9    {'n_neighbors': 5, 'weights': 'distance'}           1.000000   \n",
      "10    {'n_neighbors': 6, 'weights': 'uniform'}           1.000000   \n",
      "11   {'n_neighbors': 6, 'weights': 'distance'}           1.000000   \n",
      "12    {'n_neighbors': 7, 'weights': 'uniform'}           1.000000   \n",
      "13   {'n_neighbors': 7, 'weights': 'distance'}           1.000000   \n",
      "14    {'n_neighbors': 8, 'weights': 'uniform'}           1.000000   \n",
      "15   {'n_neighbors': 8, 'weights': 'distance'}           1.000000   \n",
      "16    {'n_neighbors': 9, 'weights': 'uniform'}           1.000000   \n",
      "17   {'n_neighbors': 9, 'weights': 'distance'}           1.000000   \n",
      "18   {'n_neighbors': 10, 'weights': 'uniform'}           1.000000   \n",
      "19  {'n_neighbors': 10, 'weights': 'distance'}           1.000000   \n",
      "20   {'n_neighbors': 11, 'weights': 'uniform'}           1.000000   \n",
      "21  {'n_neighbors': 11, 'weights': 'distance'}           1.000000   \n",
      "22   {'n_neighbors': 12, 'weights': 'uniform'}           1.000000   \n",
      "23  {'n_neighbors': 12, 'weights': 'distance'}           1.000000   \n",
      "24   {'n_neighbors': 13, 'weights': 'uniform'}           1.000000   \n",
      "25  {'n_neighbors': 13, 'weights': 'distance'}           1.000000   \n",
      "26   {'n_neighbors': 14, 'weights': 'uniform'}           1.000000   \n",
      "27  {'n_neighbors': 14, 'weights': 'distance'}           1.000000   \n",
      "28   {'n_neighbors': 15, 'weights': 'uniform'}           0.933333   \n",
      "29  {'n_neighbors': 15, 'weights': 'distance'}           1.000000   \n",
      "30   {'n_neighbors': 16, 'weights': 'uniform'}           1.000000   \n",
      "31  {'n_neighbors': 16, 'weights': 'distance'}           1.000000   \n",
      "32   {'n_neighbors': 17, 'weights': 'uniform'}           0.933333   \n",
      "33  {'n_neighbors': 17, 'weights': 'distance'}           1.000000   \n",
      "34   {'n_neighbors': 18, 'weights': 'uniform'}           1.000000   \n",
      "35  {'n_neighbors': 18, 'weights': 'distance'}           1.000000   \n",
      "36   {'n_neighbors': 19, 'weights': 'uniform'}           0.933333   \n",
      "37  {'n_neighbors': 19, 'weights': 'distance'}           1.000000   \n",
      "38   {'n_neighbors': 20, 'weights': 'uniform'}           1.000000   \n",
      "39  {'n_neighbors': 20, 'weights': 'distance'}           1.000000   \n",
      "40   {'n_neighbors': 21, 'weights': 'uniform'}           0.933333   \n",
      "41  {'n_neighbors': 21, 'weights': 'distance'}           1.000000   \n",
      "42   {'n_neighbors': 22, 'weights': 'uniform'}           0.933333   \n",
      "43  {'n_neighbors': 22, 'weights': 'distance'}           1.000000   \n",
      "44   {'n_neighbors': 23, 'weights': 'uniform'}           0.933333   \n",
      "45  {'n_neighbors': 23, 'weights': 'distance'}           1.000000   \n",
      "46   {'n_neighbors': 24, 'weights': 'uniform'}           0.933333   \n",
      "47  {'n_neighbors': 24, 'weights': 'distance'}           1.000000   \n",
      "48   {'n_neighbors': 25, 'weights': 'uniform'}           0.933333   \n",
      "49  {'n_neighbors': 25, 'weights': 'distance'}           1.000000   \n",
      "50   {'n_neighbors': 26, 'weights': 'uniform'}           0.933333   \n",
      "51  {'n_neighbors': 26, 'weights': 'distance'}           1.000000   \n",
      "52   {'n_neighbors': 27, 'weights': 'uniform'}           0.933333   \n",
      "53  {'n_neighbors': 27, 'weights': 'distance'}           1.000000   \n",
      "54   {'n_neighbors': 28, 'weights': 'uniform'}           0.933333   \n",
      "55  {'n_neighbors': 28, 'weights': 'distance'}           1.000000   \n",
      "56   {'n_neighbors': 29, 'weights': 'uniform'}           0.933333   \n",
      "57  {'n_neighbors': 29, 'weights': 'distance'}           1.000000   \n",
      "58   {'n_neighbors': 30, 'weights': 'uniform'}           0.933333   \n",
      "59  {'n_neighbors': 30, 'weights': 'distance'}           1.000000   \n",
      "\n",
      "    split1_test_score  split2_test_score  ...  split2_train_score  \\\n",
      "0            0.933333                1.0  ...            1.000000   \n",
      "1            0.933333                1.0  ...            1.000000   \n",
      "2            0.933333                1.0  ...            0.977778   \n",
      "3            0.933333                1.0  ...            1.000000   \n",
      "4            0.933333                1.0  ...            0.955556   \n",
      "5            0.933333                1.0  ...            1.000000   \n",
      "6            0.933333                1.0  ...            0.955556   \n",
      "7            0.933333                1.0  ...            1.000000   \n",
      "8            0.933333                1.0  ...            0.962963   \n",
      "9            0.933333                1.0  ...            1.000000   \n",
      "10           0.933333                1.0  ...            0.970370   \n",
      "11           0.933333                1.0  ...            1.000000   \n",
      "12           0.933333                1.0  ...            0.970370   \n",
      "13           0.933333                1.0  ...            1.000000   \n",
      "14           0.933333                1.0  ...            0.977778   \n",
      "15           0.933333                1.0  ...            1.000000   \n",
      "16           0.933333                1.0  ...            0.977778   \n",
      "17           0.933333                1.0  ...            1.000000   \n",
      "18           0.933333                1.0  ...            0.977778   \n",
      "19           0.933333                1.0  ...            1.000000   \n",
      "20           0.933333                1.0  ...            0.985185   \n",
      "21           0.933333                1.0  ...            1.000000   \n",
      "22           0.933333                1.0  ...            0.985185   \n",
      "23           0.933333                1.0  ...            1.000000   \n",
      "24           0.933333                1.0  ...            0.977778   \n",
      "25           0.933333                1.0  ...            1.000000   \n",
      "26           0.933333                1.0  ...            0.985185   \n",
      "27           0.933333                1.0  ...            1.000000   \n",
      "28           0.933333                1.0  ...            0.977778   \n",
      "29           0.933333                1.0  ...            1.000000   \n",
      "30           0.933333                1.0  ...            0.985185   \n",
      "31           0.933333                1.0  ...            1.000000   \n",
      "32           0.933333                1.0  ...            0.977778   \n",
      "33           0.933333                1.0  ...            1.000000   \n",
      "34           0.933333                1.0  ...            0.977778   \n",
      "35           0.933333                1.0  ...            1.000000   \n",
      "36           0.933333                1.0  ...            0.977778   \n",
      "37           0.933333                1.0  ...            1.000000   \n",
      "38           0.933333                1.0  ...            0.962963   \n",
      "39           0.933333                1.0  ...            1.000000   \n",
      "40           0.933333                1.0  ...            0.970370   \n",
      "41           0.933333                1.0  ...            1.000000   \n",
      "42           0.933333                1.0  ...            0.955556   \n",
      "43           0.933333                1.0  ...            1.000000   \n",
      "44           0.933333                1.0  ...            0.962963   \n",
      "45           0.933333                1.0  ...            1.000000   \n",
      "46           0.933333                1.0  ...            0.948148   \n",
      "47           0.933333                1.0  ...            1.000000   \n",
      "48           0.933333                1.0  ...            0.948148   \n",
      "49           0.933333                1.0  ...            1.000000   \n",
      "50           0.933333                1.0  ...            0.933333   \n",
      "51           0.933333                1.0  ...            1.000000   \n",
      "52           0.933333                1.0  ...            0.940741   \n",
      "53           0.933333                1.0  ...            1.000000   \n",
      "54           0.933333                1.0  ...            0.948148   \n",
      "55           0.933333                1.0  ...            1.000000   \n",
      "56           0.933333                1.0  ...            0.955556   \n",
      "57           0.933333                1.0  ...            1.000000   \n",
      "58           0.933333                1.0  ...            0.948148   \n",
      "59           0.933333                1.0  ...            1.000000   \n",
      "\n",
      "    split3_train_score  split4_train_score  split5_train_score  \\\n",
      "0             1.000000            1.000000            1.000000   \n",
      "1             1.000000            1.000000            1.000000   \n",
      "2             0.985185            0.977778            0.970370   \n",
      "3             1.000000            1.000000            1.000000   \n",
      "4             0.962963            0.977778            0.955556   \n",
      "5             1.000000            1.000000            1.000000   \n",
      "6             0.962963            0.977778            0.962963   \n",
      "7             1.000000            1.000000            1.000000   \n",
      "8             0.970370            0.985185            0.962963   \n",
      "9             1.000000            1.000000            1.000000   \n",
      "10            0.977778            0.985185            0.955556   \n",
      "11            1.000000            1.000000            1.000000   \n",
      "12            0.970370            0.985185            0.970370   \n",
      "13            1.000000            1.000000            1.000000   \n",
      "14            0.985185            0.977778            0.970370   \n",
      "15            1.000000            1.000000            1.000000   \n",
      "16            0.985185            0.977778            0.977778   \n",
      "17            1.000000            1.000000            1.000000   \n",
      "18            0.977778            0.977778            0.970370   \n",
      "19            1.000000            1.000000            1.000000   \n",
      "20            0.977778            0.985185            0.985185   \n",
      "21            1.000000            1.000000            1.000000   \n",
      "22            0.977778            0.977778            0.977778   \n",
      "23            1.000000            1.000000            1.000000   \n",
      "24            0.977778            0.985185            0.985185   \n",
      "25            1.000000            1.000000            1.000000   \n",
      "26            0.977778            0.977778            0.977778   \n",
      "27            1.000000            1.000000            1.000000   \n",
      "28            0.977778            0.977778            0.977778   \n",
      "29            1.000000            1.000000            1.000000   \n",
      "30            0.985185            0.977778            0.977778   \n",
      "31            1.000000            1.000000            1.000000   \n",
      "32            0.977778            0.977778            0.985185   \n",
      "33            1.000000            1.000000            1.000000   \n",
      "34            0.977778            0.977778            0.985185   \n",
      "35            1.000000            1.000000            1.000000   \n",
      "36            0.977778            0.977778            0.977778   \n",
      "37            1.000000            1.000000            1.000000   \n",
      "38            0.977778            0.977778            0.977778   \n",
      "39            1.000000            1.000000            1.000000   \n",
      "40            0.977778            0.977778            0.977778   \n",
      "41            1.000000            1.000000            1.000000   \n",
      "42            0.977778            0.970370            0.977778   \n",
      "43            1.000000            1.000000            1.000000   \n",
      "44            0.977778            0.977778            0.977778   \n",
      "45            1.000000            1.000000            1.000000   \n",
      "46            0.977778            0.970370            0.977778   \n",
      "47            1.000000            1.000000            1.000000   \n",
      "48            0.970370            0.970370            0.977778   \n",
      "49            1.000000            1.000000            1.000000   \n",
      "50            0.962963            0.955556            0.962963   \n",
      "51            1.000000            1.000000            1.000000   \n",
      "52            0.970370            0.948148            0.970370   \n",
      "53            1.000000            1.000000            1.000000   \n",
      "54            0.962963            0.948148            0.962963   \n",
      "55            1.000000            1.000000            1.000000   \n",
      "56            0.970370            0.948148            0.962963   \n",
      "57            1.000000            1.000000            1.000000   \n",
      "58            0.948148            0.948148            0.962963   \n",
      "59            1.000000            1.000000            1.000000   \n",
      "\n",
      "    split6_train_score  split7_train_score  split8_train_score  \\\n",
      "0             1.000000            1.000000            1.000000   \n",
      "1             1.000000            1.000000            1.000000   \n",
      "2             0.985185            0.977778            0.977778   \n",
      "3             1.000000            1.000000            1.000000   \n",
      "4             0.970370            0.955556            0.955556   \n",
      "5             1.000000            1.000000            1.000000   \n",
      "6             0.970370            0.962963            0.955556   \n",
      "7             1.000000            1.000000            1.000000   \n",
      "8             0.977778            0.962963            0.962963   \n",
      "9             1.000000            1.000000            1.000000   \n",
      "10            0.985185            0.970370            0.970370   \n",
      "11            1.000000            1.000000            1.000000   \n",
      "12            0.977778            0.970370            0.970370   \n",
      "13            1.000000            1.000000            1.000000   \n",
      "14            0.992593            0.977778            0.977778   \n",
      "15            1.000000            1.000000            1.000000   \n",
      "16            0.992593            0.970370            0.977778   \n",
      "17            1.000000            1.000000            1.000000   \n",
      "18            0.985185            0.977778            0.977778   \n",
      "19            1.000000            1.000000            1.000000   \n",
      "20            0.992593            0.977778            0.977778   \n",
      "21            1.000000            1.000000            1.000000   \n",
      "22            0.985185            0.970370            0.985185   \n",
      "23            1.000000            1.000000            1.000000   \n",
      "24            0.992593            0.970370            0.977778   \n",
      "25            1.000000            1.000000            1.000000   \n",
      "26            0.992593            0.977778            0.985185   \n",
      "27            1.000000            1.000000            1.000000   \n",
      "28            0.985185            0.977778            0.985185   \n",
      "29            1.000000            1.000000            1.000000   \n",
      "30            0.985185            0.970370            0.977778   \n",
      "31            1.000000            1.000000            1.000000   \n",
      "32            0.977778            0.977778            0.977778   \n",
      "33            1.000000            1.000000            1.000000   \n",
      "34            0.985185            0.977778            0.977778   \n",
      "35            1.000000            1.000000            1.000000   \n",
      "36            0.985185            0.977778            0.977778   \n",
      "37            1.000000            1.000000            1.000000   \n",
      "38            0.985185            0.977778            0.977778   \n",
      "39            1.000000            1.000000            1.000000   \n",
      "40            0.985185            0.977778            0.977778   \n",
      "41            1.000000            1.000000            1.000000   \n",
      "42            0.977778            0.970370            0.970370   \n",
      "43            1.000000            1.000000            1.000000   \n",
      "44            0.977778            0.977778            0.977778   \n",
      "45            1.000000            1.000000            1.000000   \n",
      "46            0.977778            0.977778            0.970370   \n",
      "47            1.000000            1.000000            1.000000   \n",
      "48            0.977778            0.977778            0.970370   \n",
      "49            1.000000            1.000000            1.000000   \n",
      "50            0.962963            0.970370            0.962963   \n",
      "51            1.000000            1.000000            1.000000   \n",
      "52            0.970370            0.970370            0.970370   \n",
      "53            1.000000            1.000000            1.000000   \n",
      "54            0.955556            0.962963            0.948148   \n",
      "55            1.000000            1.000000            1.000000   \n",
      "56            0.962963            0.962963            0.955556   \n",
      "57            1.000000            1.000000            1.000000   \n",
      "58            0.962963            0.955556            0.955556   \n",
      "59            1.000000            1.000000            1.000000   \n",
      "\n",
      "    split9_train_score  mean_train_score  std_train_score  \n",
      "0             1.000000          1.000000         0.000000  \n",
      "1             1.000000          1.000000         0.000000  \n",
      "2             0.977778          0.978519         0.005185  \n",
      "3             1.000000          1.000000         0.000000  \n",
      "4             0.955556          0.960741         0.007444  \n",
      "5             1.000000          1.000000         0.000000  \n",
      "6             0.970370          0.963704         0.006988  \n",
      "7             1.000000          1.000000         0.000000  \n",
      "8             0.970370          0.968889         0.007258  \n",
      "9             1.000000          1.000000         0.000000  \n",
      "10            0.970370          0.972593         0.008148  \n",
      "11            1.000000          1.000000         0.000000  \n",
      "12            0.977778          0.973333         0.005926  \n",
      "13            1.000000          1.000000         0.000000  \n",
      "14            0.977778          0.979259         0.006458  \n",
      "15            1.000000          1.000000         0.000000  \n",
      "16            0.977778          0.979259         0.006458  \n",
      "17            1.000000          1.000000         0.000000  \n",
      "18            0.962963          0.976296         0.006458  \n",
      "19            1.000000          1.000000         0.000000  \n",
      "20            0.962963          0.980000         0.008148  \n",
      "21            1.000000          1.000000         0.000000  \n",
      "22            0.962963          0.978519         0.008413  \n",
      "23            1.000000          1.000000         0.000000  \n",
      "24            0.977778          0.980000         0.005785  \n",
      "25            1.000000          1.000000         0.000000  \n",
      "26            0.970370          0.979259         0.006458  \n",
      "27            1.000000          1.000000         0.000000  \n",
      "28            0.977778          0.979259         0.002963  \n",
      "29            1.000000          1.000000         0.000000  \n",
      "30            0.962963          0.977778         0.007407  \n",
      "31            1.000000          1.000000         0.000000  \n",
      "32            0.962963          0.977778         0.005738  \n",
      "33            1.000000          1.000000         0.000000  \n",
      "34            0.955556          0.977778         0.008114  \n",
      "35            1.000000          1.000000         0.000000  \n",
      "36            0.962963          0.977778         0.005738  \n",
      "37            1.000000          1.000000         0.000000  \n",
      "38            0.940741          0.974074         0.012505  \n",
      "39            1.000000          1.000000         0.000000  \n",
      "40            0.948148          0.975556         0.009966  \n",
      "41            1.000000          1.000000         0.000000  \n",
      "42            0.948148          0.971111         0.010709  \n",
      "43            1.000000          1.000000         0.000000  \n",
      "44            0.955556          0.973333         0.007554  \n",
      "45            1.000000          1.000000         0.000000  \n",
      "46            0.955556          0.970370         0.009938  \n",
      "47            1.000000          1.000000         0.000000  \n",
      "48            0.948148          0.969630         0.011209  \n",
      "49            1.000000          1.000000         0.000000  \n",
      "50            0.940741          0.960000         0.013739  \n",
      "51            1.000000          1.000000         0.000000  \n",
      "52            0.933333          0.961481         0.014363  \n",
      "53            1.000000          1.000000         0.000000  \n",
      "54            0.933333          0.954815         0.011689  \n",
      "55            1.000000          1.000000         0.000000  \n",
      "56            0.940741          0.959259         0.010075  \n",
      "57            1.000000          1.000000         0.000000  \n",
      "58            0.940741          0.952593         0.006789  \n",
      "59            1.000000          1.000000         0.000000  \n",
      "\n",
      "[60 rows x 32 columns]\n"
     ]
    }
   ],
   "source": [
    "#view the results\n",
    "results = pd.DataFrame(grid.cv_results_)\n",
    "print(results)"
   ]
  },
  {
   "cell_type": "code",
   "execution_count": 92,
   "metadata": {
    "collapsed": true
   },
   "outputs": [
    {
     "name": "stdout",
     "output_type": "stream",
     "text": [
      "0.98\n",
      "{'n_neighbors': 13, 'weights': 'uniform'}\n"
     ]
    }
   ],
   "source": [
    "#examine the best model\n",
    "print(grid.best_score_)\n",
    "print(grid.best_params_)"
   ]
  },
  {
   "cell_type": "markdown",
   "metadata": {},
   "source": [
    "Train the model with the best parameters"
   ]
  },
  {
   "cell_type": "code",
   "execution_count": 95,
   "metadata": {
    "collapsed": true
   },
   "outputs": [
    {
     "data": {
      "text/plain": [
       "array([1])"
      ]
     },
     "execution_count": 95,
     "metadata": {},
     "output_type": "execute_result"
    }
   ],
   "source": [
    "knn = KNeighborsClassifier(n_neighbors=13, weights='uniform')\n",
    "knn.fit(X, y)\n",
    "knn.predict([[3, 5, 4, 2]])"
   ]
  },
  {
   "cell_type": "code",
   "execution_count": 99,
   "metadata": {
    "collapsed": true
   },
   "outputs": [
    {
     "data": {
      "text/plain": [
       "array([1])"
      ]
     },
     "execution_count": 99,
     "metadata": {},
     "output_type": "execute_result"
    }
   ],
   "source": [
    "#This shortcut can be used\n",
    "grid.predict([[3, 5, 4, 2]])"
   ]
  },
  {
   "cell_type": "code",
   "execution_count": 101,
   "metadata": {
    "collapsed": true
   },
   "outputs": [
    {
     "data": {
      "text/plain": [
       "'versicolor'"
      ]
     },
     "execution_count": 101,
     "metadata": {},
     "output_type": "execute_result"
    }
   ],
   "source": [
    "iris.target_names[1]"
   ]
  },
  {
   "cell_type": "markdown",
   "metadata": {},
   "source": [
    "### RandomizedSearchCV\n",
    "Having too many parameters to tune. Solve the computational problem"
   ]
  },
  {
   "cell_type": "code",
   "execution_count": 103,
   "metadata": {
    "collapsed": true
   },
   "outputs": [],
   "source": [
    "#Specify parameter distributions rather than parameter grid\n",
    "#It needs continuous parameters so in this case it will be the same as before\n",
    "param_dist = dict(n_neighbors=k_range, weights=weight_options)"
   ]
  },
  {
   "cell_type": "code",
   "execution_count": 106,
   "metadata": {
    "collapsed": true
   },
   "outputs": [
    {
     "data": {
      "text/plain": [
       "RandomizedSearchCV(cv=10, error_score='raise-deprecating',\n",
       "          estimator=KNeighborsClassifier(algorithm='auto', leaf_size=30, metric='minkowski',\n",
       "           metric_params=None, n_jobs=None, n_neighbors=13, p=2,\n",
       "           weights='uniform'),\n",
       "          fit_params=None, iid='warn', n_iter=10, n_jobs=None,\n",
       "          param_distributions={'n_neighbors': [1, 2, 3, 4, 5, 6, 7, 8, 9, 10, 11, 12, 13, 14, 15, 16, 17, 18, 19, 20, 21, 22, 23, 24, 25, 26, 27, 28, 29, 30], 'weights': ['uniform', 'distance']},\n",
       "          pre_dispatch='2*n_jobs', random_state=5, refit=True,\n",
       "          return_train_score='warn', scoring='accuracy', verbose=0)"
      ]
     },
     "execution_count": 106,
     "metadata": {},
     "output_type": "execute_result"
    }
   ],
   "source": [
    "#n_iter controls the number of searches\n",
    "rand = RandomizedSearchCV(knn, param_dist, cv=10, scoring='accuracy', n_iter=10, random_state=5)\n",
    "rand.fit(X, y)"
   ]
  },
  {
   "cell_type": "code",
   "execution_count": 108,
   "metadata": {
    "collapsed": true
   },
   "outputs": [
    {
     "name": "stdout",
     "output_type": "stream",
     "text": [
      "   mean_fit_time  std_fit_time  mean_score_time  std_score_time param_weights  \\\n",
      "0       0.000000      0.000000         0.003124        0.006249      distance   \n",
      "1       0.000000      0.000000         0.000000        0.000000       uniform   \n",
      "2       0.001562      0.004687         0.001562        0.004687       uniform   \n",
      "3       0.000000      0.000000         0.000000        0.000000       uniform   \n",
      "4       0.000000      0.000000         0.001563        0.004689       uniform   \n",
      "\n",
      "  param_n_neighbors                                      params  \\\n",
      "0                16  {'weights': 'distance', 'n_neighbors': 16}   \n",
      "1                22   {'weights': 'uniform', 'n_neighbors': 22}   \n",
      "2                18   {'weights': 'uniform', 'n_neighbors': 18}   \n",
      "3                27   {'weights': 'uniform', 'n_neighbors': 27}   \n",
      "4                29   {'weights': 'uniform', 'n_neighbors': 29}   \n",
      "\n",
      "   split0_test_score  split1_test_score  split2_test_score  ...  \\\n",
      "0           1.000000           0.933333                1.0  ...   \n",
      "1           0.933333           0.933333                1.0  ...   \n",
      "2           1.000000           0.933333                1.0  ...   \n",
      "3           0.933333           0.933333                1.0  ...   \n",
      "4           0.933333           0.933333                1.0  ...   \n",
      "\n",
      "   split2_train_score  split3_train_score  split4_train_score  \\\n",
      "0            1.000000            1.000000            1.000000   \n",
      "1            0.955556            0.977778            0.970370   \n",
      "2            0.977778            0.977778            0.977778   \n",
      "3            0.940741            0.970370            0.948148   \n",
      "4            0.955556            0.970370            0.948148   \n",
      "\n",
      "   split5_train_score  split6_train_score  split7_train_score  \\\n",
      "0            1.000000            1.000000            1.000000   \n",
      "1            0.977778            0.977778            0.970370   \n",
      "2            0.985185            0.985185            0.977778   \n",
      "3            0.970370            0.970370            0.970370   \n",
      "4            0.962963            0.962963            0.962963   \n",
      "\n",
      "   split8_train_score  split9_train_score  mean_train_score  std_train_score  \n",
      "0            1.000000            1.000000          1.000000         0.000000  \n",
      "1            0.970370            0.948148          0.971111         0.010709  \n",
      "2            0.977778            0.955556          0.977778         0.008114  \n",
      "3            0.970370            0.933333          0.961481         0.014363  \n",
      "4            0.955556            0.940741          0.959259         0.010075  \n",
      "\n",
      "[5 rows x 32 columns]\n"
     ]
    }
   ],
   "source": [
    "results = pd.DataFrame(rand.cv_results_)\n",
    "print(results.head())"
   ]
  },
  {
   "cell_type": "code",
   "execution_count": 109,
   "metadata": {
    "collapsed": true
   },
   "outputs": [
    {
     "name": "stdout",
     "output_type": "stream",
     "text": [
      "0.98\n",
      "{'weights': 'uniform', 'n_neighbors': 18}\n"
     ]
    }
   ],
   "source": [
    "#the best score is the same as GridSearchCV\n",
    "print(rand.best_score_)\n",
    "print(rand.best_params_)"
   ]
  },
  {
   "cell_type": "code",
   "execution_count": null,
   "metadata": {
    "collapsed": true
   },
   "outputs": [],
   "source": []
  }
 ],
 "metadata": {
  "kernelspec": {
   "display_name": "Python 3",
   "language": "python",
   "name": "python3"
  },
  "language_info": {
   "codemirror_mode": {
    "name": "ipython",
    "version": 3
   },
   "file_extension": ".py",
   "mimetype": "text/x-python",
   "name": "python",
   "nbconvert_exporter": "python",
   "pygments_lexer": "ipython3",
   "version": "3.7.3"
  }
 },
 "nbformat": 4,
 "nbformat_minor": 2
}
